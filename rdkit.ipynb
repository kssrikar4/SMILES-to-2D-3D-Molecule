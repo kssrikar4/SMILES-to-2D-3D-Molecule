{
 "cells": [
  {
   "cell_type": "markdown",
   "id": "0446cabc-7c3a-4fe9-9a6e-a4c7ff6ab158",
   "metadata": {},
   "source": [
    "# SMILES to 2D/3D Molecule Converter"
   ]
  },
  {
   "cell_type": "markdown",
   "id": "e5484cac-63ca-4208-adca-c55cde122fcd",
   "metadata": {},
   "source": [
    "## Import libraries"
   ]
  },
  {
   "cell_type": "code",
   "execution_count": null,
   "id": "e9d41505-4f17-4933-a5fe-2bf6b8155fa8",
   "metadata": {},
   "outputs": [],
   "source": [
    "from rdkit import Chem\n",
    "from rdkit.Chem import rdDistGeom\n",
    "from rdkit.Chem import rdDepictor\n",
    "rdDepictor.SetPreferCoordGen(True)\n",
    "from rdkit.Chem.Draw import IPythonConsole\n",
    "IPythonConsole.ipython_3d = True\n",
    "import rdkit\n",
    "from rdkit.Chem.rdmolfiles import MolToMolFile\n",
    "from rdkit.Chem import Draw\n",
    "from rdkit.Chem import AllChem"
   ]
  },
  {
   "cell_type": "markdown",
   "id": "c44ddde8-fa7a-411c-8d80-608658ec3323",
   "metadata": {},
   "source": [
    "## Add your SMILES here"
   ]
  },
  {
   "cell_type": "code",
   "execution_count": null,
   "id": "a8fb6820-bd04-4165-9da0-4f2fc20622ae",
   "metadata": {},
   "outputs": [],
   "source": [
    "mol = Chem.MolFromSmiles('Your_Smiles')"
   ]
  },
  {
   "cell_type": "code",
   "execution_count": null,
   "id": "db4330e0-15d8-4521-b568-02831edbcd6f",
   "metadata": {},
   "outputs": [],
   "source": [
    "mol"
   ]
  },
  {
   "cell_type": "code",
   "execution_count": null,
   "id": "3790dec5-9791-4b7b-b844-f39ece479ba7",
   "metadata": {},
   "outputs": [],
   "source": [
    "img = Draw.MolToImage(m)"
   ]
  },
  {
   "cell_type": "code",
   "execution_count": null,
   "id": "909c4edb-61ed-4003-83e2-9d1f018c82b3",
   "metadata": {},
   "outputs": [],
   "source": [
    "img"
   ]
  },
  {
   "cell_type": "markdown",
   "id": "4bb767a4-e100-4331-85d8-e5e09b356821",
   "metadata": {},
   "source": [
    "## Add the name of the Compound and Save 2d MOL file"
   ]
  },
  {
   "cell_type": "code",
   "execution_count": null,
   "id": "f369bba2-78ae-473a-af33-cdcc16e3a02b",
   "metadata": {
    "scrolled": true
   },
   "outputs": [],
   "source": [
    "m.SetProp(\"_Name\",\"Compound Name\")\n",
    "print(Chem.MolToMolBlock(m))\n",
    "Chem.MolToMolFile(m, r\"Path/to/2d.mol\")"
   ]
  },
  {
   "cell_type": "markdown",
   "id": "25378d45-3f0a-4ff8-80c5-4e58479ea243",
   "metadata": {},
   "source": [
    "## Save 2d SDF file"
   ]
  },
  {
   "cell_type": "code",
   "execution_count": null,
   "id": "15906463-bbc1-43cf-976d-b533486d1a23",
   "metadata": {},
   "outputs": [],
   "source": [
    "w = Chem.SDWriter(r\"Path/to/3d.sdf\")\n",
    "w.write(m)\n",
    "w.close()"
   ]
  },
  {
   "cell_type": "markdown",
   "id": "09bcd8d1-4f47-49ab-9b91-7a1889e6446b",
   "metadata": {},
   "source": [
    "## Create 3d Structures"
   ]
  },
  {
   "cell_type": "code",
   "execution_count": null,
   "id": "6c5dc9d5-e276-425f-a1c5-319d8c581328",
   "metadata": {},
   "outputs": [],
   "source": [
    "m2 = Chem.AddHs(m)\n",
    "params = AllChem.ETKDGv3()\n",
    "params.randomSeed = 0xf00d # optional random seed for reproducibility\n",
    "params.trackFailures = True\n",
    "AllChem.EmbedMolecule(m2, params)\n",
    "print(rdDistGeom.EmbedMolecule(m2,params))\n",
    "counts = params.GetFailureCounts()\n",
    "counts"
   ]
  },
  {
   "cell_type": "code",
   "execution_count": null,
   "id": "dc76343f-44c4-4acd-a245-28eae84d1272",
   "metadata": {},
   "outputs": [],
   "source": [
    "def print_failure_causes(counts):\n",
    "    for i,k in enumerate(rdDistGeom.EmbedFailureCauses.names):\n",
    "        print(k,counts[i])\n",
    "    # in v2022.03.1 two names are missing from `rdDistGeom.EmbedFailureCauses`:\n",
    "    print('LINEAR_DOUBLE_BOND',counts[i+1])\n",
    "    print('BAD_DOUBLE_BOND_STEREO',counts[i+2])"
   ]
  },
  {
   "cell_type": "code",
   "execution_count": null,
   "id": "9c8ff3d1-0c0d-4a72-b301-a8754539a19a",
   "metadata": {},
   "outputs": [],
   "source": [
    "print_failure_causes(counts)"
   ]
  },
  {
   "cell_type": "code",
   "execution_count": null,
   "id": "3391d3b1-f1f2-4de9-8564-4ad4a5c417b0",
   "metadata": {},
   "outputs": [],
   "source": [
    "print(Chem.MolToMolBlock(m2))"
   ]
  },
  {
   "cell_type": "markdown",
   "id": "d7a89c4a-dd95-4802-821d-2bcac0330a8c",
   "metadata": {},
   "source": [
    "## Run this if 3d structure is not formed"
   ]
  },
  {
   "cell_type": "code",
   "execution_count": null,
   "id": "8f82fb7c-e44d-4218-9ff2-152c8bd1f933",
   "metadata": {},
   "outputs": [],
   "source": [
    "params.trackFailures = True\n",
    "AllChem.EmbedMolecule(m2,maxAttempts=5000)\n",
    "print(rdDistGeom.EmbedMolecule(m2,params))\n",
    "counts = params.GetFailureCounts()\n",
    "counts"
   ]
  },
  {
   "cell_type": "code",
   "execution_count": null,
   "id": "9f29f3b9-cb1d-4275-8984-7033f8a94ac8",
   "metadata": {},
   "outputs": [],
   "source": [
    "def print_failure_causes(counts):\n",
    "    for i,k in enumerate(rdDistGeom.EmbedFailureCauses.names):\n",
    "        print(k,counts[i])\n",
    "    # in v2022.03.1 two names are missing from `rdDistGeom.EmbedFailureCauses`:\n",
    "    print('LINEAR_DOUBLE_BOND',counts[i+1])\n",
    "    print('BAD_DOUBLE_BOND_STEREO',counts[i+2])"
   ]
  },
  {
   "cell_type": "code",
   "execution_count": null,
   "id": "995aa675-5ae9-44f6-94c6-150dc85781a0",
   "metadata": {},
   "outputs": [],
   "source": [
    "print_failure_causes(counts)"
   ]
  },
  {
   "cell_type": "markdown",
   "id": "fa3ecac5-1830-454e-91af-f0760ebcc8c4",
   "metadata": {},
   "source": [
    "## If the above all trials fail try running this one"
   ]
  },
  {
   "cell_type": "code",
   "execution_count": null,
   "id": "37feaea5-24ec-48c8-b080-bb26810c56d2",
   "metadata": {},
   "outputs": [],
   "source": [
    "AllChem.EmbedMolecule(m2,useRandomCoords=True)"
   ]
  },
  {
   "cell_type": "markdown",
   "id": "1ffa7675-f0a1-4e97-af43-134ec9a4133e",
   "metadata": {},
   "source": [
    "## Visualise your structure"
   ]
  },
  {
   "cell_type": "code",
   "execution_count": null,
   "id": "f25eede7-d863-4b7f-8c38-30671ca37ae9",
   "metadata": {},
   "outputs": [],
   "source": [
    "m2"
   ]
  },
  {
   "cell_type": "markdown",
   "id": "da2c771c-7353-4ac5-9c5b-8aa2daaf9600",
   "metadata": {},
   "source": [
    "## Save 3d MOL file"
   ]
  },
  {
   "cell_type": "code",
   "execution_count": null,
   "id": "43ea43c8-0eb1-445a-b99b-902363df50ab",
   "metadata": {},
   "outputs": [],
   "source": [
    "Chem.MolToMolFile(m2, r\"Path/to/3d.mol\")"
   ]
  },
  {
   "cell_type": "markdown",
   "id": "d9268159-6e60-48b6-afac-823f2450a139",
   "metadata": {},
   "source": [
    "## Save 3d SDF file"
   ]
  },
  {
   "cell_type": "code",
   "execution_count": null,
   "id": "97ec021b-618f-429d-9e54-dd568892f241",
   "metadata": {},
   "outputs": [],
   "source": [
    "w = Chem.SDWriter(r\"Path/to/3d.sdf\")\n",
    "w.write(m2)\n",
    "w.close()"
   ]
  }
 ],
 "metadata": {
  "kernelspec": {
   "display_name": "Python 3 (ipykernel)",
   "language": "python",
   "name": "python3"
  },
  "language_info": {
   "codemirror_mode": {
    "name": "ipython",
    "version": 3
   },
   "file_extension": ".py",
   "mimetype": "text/x-python",
   "name": "python",
   "nbconvert_exporter": "python",
   "pygments_lexer": "ipython3",
   "version": "3.12.8"
  }
 },
 "nbformat": 4,
 "nbformat_minor": 5
}
